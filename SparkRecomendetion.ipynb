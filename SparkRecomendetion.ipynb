{
 "cells": [
  {
   "cell_type": "markdown",
   "metadata": {},
   "source": [
    "# Aplying the recomendator system\n",
    "\n",
    "This notebook is a part of the project Library recomender system. To generet the datases used in this notebook, we have used spiders to colect biblographis registers and users trasactions over  many  library sites.\n",
    "The bibliograthic registers have been already unificated and associated with a unique identifier class \"codObra\";\n",
    "\n",
    "\n",
    "Ever time that the spider find a  new transactions, its necessary to convert the local id to the \"codObra\" id. The last notebook is about row to joing the recomender with a unified register id.  \n",
    "This notebook shows how to use  the spark library to buld a matriz with correlate the user actions and books, to after that redux the dimentin in order to build similarity and social filter.  \n",
    "\n",
    "\n"
   ]
  },
  {
   "cell_type": "code",
   "execution_count": 1,
   "metadata": {},
   "outputs": [],
   "source": [
    "from pyspark.sql import SparkSession\n",
    "\n",
    "spark = SparkSession \\\n",
    "    .builder \\\n",
    "    .appName(\"spark joinf table \") \\\n",
    "    .config(\"spark.some.config.option\", \"some-value\") \\\n",
    "    .config(\"spark.memory.fraction\", 0.8) \\\n",
    "    .config(\"spark.executor.memory\", \"14g\") \\\n",
    "    .config(\"spark.driver.memory\", \"12g\")\\\n",
    "    .config(\"spark.sql.shuffle.partitions\" , \"8000\") \\\n",
    "    .getOrCreate()\n",
    "\n",
    "\n"
   ]
  },
  {
   "cell_type": "code",
   "execution_count": 2,
   "metadata": {},
   "outputs": [
    {
     "name": "stdout",
     "output_type": "stream",
     "text": [
      "SELECT count(*)  from  transacionalObra \n",
      "+--------+\n",
      "|count(1)|\n",
      "+--------+\n",
      "|16500599|\n",
      "+--------+\n",
      "\n"
     ]
    }
   ],
   "source": [
    "# spark is an existing SparkSession\n",
    "#  open dataset \n",
    "transacional = spark.read.format(\"csv\") \\\n",
    "    .option(\"header\", \"true\") \\\n",
    "    .option(\"mode\", \"DROPMALFORMED\") \\\n",
    "    .load(\"transacionaFull.csv\")\n",
    "           \n",
    "    \n",
    "    \n",
    "transacional.registerTempTable(\"transacionalObra\")\n",
    " \n",
    "\n",
    "from pyspark.sql import SQLContext\n",
    "sc = spark.sparkContext\n",
    "sqlContext = SQLContext(sc)\n",
    "\n",
    "sql =\"SELECT count(*)  from  transacionalObra \"\n",
    "\n",
    "print(sql)\n",
    "result =  sqlContext.sql(sql)\n",
    "result.show(2)\n",
    "\n"
   ]
  },
  {
   "cell_type": "code",
   "execution_count": 4,
   "metadata": {},
   "outputs": [
    {
     "name": "stdout",
     "output_type": "stream",
     "text": [
      "+-------+-------+------+\n",
      "|userCol|itemCol|rating|\n",
      "+-------+-------+------+\n",
      "| 292421|    196|     4|\n",
      "| 270521|    196|     4|\n",
      "| 253221|    196|     4|\n",
      "| 261021|    196|     4|\n",
      "+-------+-------+------+\n",
      "only showing top 4 rows\n",
      "\n"
     ]
    }
   ],
   "source": [
    "from pyspark.sql import SQLContext\n",
    "\n",
    "sc = spark.sparkContext\n",
    "sql = \" SELECT  int(codusu)  as userCol ,  int(codobra)  as itemCol , 4 as rating from  \" \\\n",
    " \"  transacionalObra where codusu <> 'codusu'  \"\n",
    "#sql = \" SELECT  count(*) from  transacionalObra   \"\n",
    "sqlContext = SQLContext(sc)\n",
    "\n",
    "#transactiosR =  sqlContext.sql(\"SELECT  codusu +0 as userCol ,  codobra + 0 as itemCol , 0 as rating from  transacionalObra \")\n",
    "transactiosR =  sqlContext.sql(sql)\n",
    "transactiosR.show(4)\n",
    "\n",
    "\n",
    "\n"
   ]
  },
  {
   "cell_type": "markdown",
   "metadata": {},
   "source": [
    "Spark recommendation system buid a spars corelated matriz to aply dimention reduction.\n",
    "\n",
    "\n",
    "![SVD  reduction dimention ](https://s3-ap-south-1.amazonaws.com/av-blog-media/wp-content/uploads/2018/09/Screenshot_7.png \"Title\")"
   ]
  },
  {
   "cell_type": "code",
   "execution_count": 5,
   "metadata": {},
   "outputs": [],
   "source": [
    "from pyspark.ml.evaluation import RegressionEvaluator\n",
    "from pyspark.ml.recommendation import ALS\n",
    "from pyspark.sql import Row\n",
    "\n",
    "\n",
    "# Note we set cold start strategy to 'drop' to ensure we don't get NaN evaluation metrics\n",
    "als = ALS(maxIter=5, regParam=0.01, userCol=\"userCol\", itemCol=\"itemCol\", ratingCol=\"rating\")\n",
    "\n",
    "\n",
    "# regParam \n",
    "# rank number of dimentions  (defaults to 10).\n",
    "# maxIter is the maximum number of iterations to run (defaults to 10).\n",
    "#r egParam specifies the regularization parameter in ALS (defaults to 1.0).\n",
    "# implicitPrefs specifies whether to use the explicit feedback ALS variant or one adapted for implicit feedback data (defaults to false which means using explicit feedback).\n",
    "# alpha is a parameter applicable to the implicit feedback variant of ALS that governs the baseline confidence in preference observations (defaults to 1.0).\n",
    "# nonnegative specifies whether or not to use nonnegative constraints for least squares (defaults to false).\n",
    "\n",
    "\n",
    "\n",
    "\n",
    "model = als.fit(transactiosR)\n",
    "\n",
    "# Evaluate the model by computing the RMSE on the test data\n",
    "predictions = model.transform(transactiosR)\n",
    "evaluator = RegressionEvaluator(metricName=\"rmse\", labelCol=\"rating\",\n",
    "                                predictionCol=\"prediction\")\n",
    "\n",
    "\n"
   ]
  },
  {
   "cell_type": "code",
   "execution_count": 6,
   "metadata": {},
   "outputs": [
    {
     "name": "stdout",
     "output_type": "stream",
     "text": [
      "Root-mean-square error = 0.43610012854316643\n"
     ]
    }
   ],
   "source": [
    "\n",
    "evaluator = RegressionEvaluator(metricName=\"rmse\", labelCol=\"rating\",\n",
    "                                predictionCol=\"prediction\")\n",
    "rmse = evaluator.evaluate(predictions)\n",
    "print(\"Root-mean-square error = \" + str(rmse))\n",
    "\n",
    "# Generate top 10 movie recommendations for each user\n",
    "userRecs = model.recommendForAllUsers(10)\n",
    "# Generate top 10 user recommendations for each movie\n",
    "movieRecs = model.recommendForAllItems(10)\n"
   ]
  },
  {
   "cell_type": "code",
   "execution_count": 31,
   "metadata": {},
   "outputs": [],
   "source": [
    "model.itemFactors.registerTempTable(\"utensfactor\")\n",
    "\n",
    "\n"
   ]
  },
  {
   "cell_type": "code",
   "execution_count": null,
   "metadata": {},
   "outputs": [],
   "source": []
  },
  {
   "cell_type": "code",
   "execution_count": 29,
   "metadata": {},
   "outputs": [
    {
     "name": "stdout",
     "output_type": "stream",
     "text": [
      "(1735, 1522, 278, 5310, 9948, 30353 )\n",
      "+-----+--------------------+\n",
      "|   id|            features|\n",
      "+-----+--------------------+\n",
      "| 5310|[0.026985882, -0....|\n",
      "| 1522|[-0.1783326, 0.17...|\n",
      "|30353|[0.31805018, -0.3...|\n",
      "| 1735|[0.0031171704, 0....|\n",
      "|  278|[0.022964288, -0....|\n",
      "| 9948|[0.015914584, 0.4...|\n",
      "+-----+--------------------+\n",
      "\n"
     ]
    }
   ],
   "source": [
    "books = {\n",
    "    1735: 'moreninha',\n",
    "    1522 : \"dom casmurro\",\n",
    "    #2172 : \"Quincas Borba: \",\n",
    "    278  : 'Quem Mexeu no Meu Queijo?', \n",
    "    5310: 'Como Fazer Amigos e Influenciar Pessoas',\n",
    "    #1117  : 'Fundamentos da metafisica dos costumes ',\n",
    "        \n",
    "    #17180 : 'pai rico',\n",
    "    9948 : 'Convite a Filosofia:',\n",
    "    \n",
    "    #277  : 'Grande sertao Veredas',\n",
    "    #2873:'Harry Potter e a Ordem da Fenix',\n",
    "    #6970: 'Matematica divertida e curiosa',\n",
    "    #223802: 'matematica fundamentos ' ,\n",
    "    #24459: 'O que e literatura:'  ,\n",
    "    #26526: 'A guerra dos tronos',\n",
    "    30353: 'O Que e Ideologia',\n",
    "    \n",
    "    \n",
    "    \n",
    "      \n",
    "}\n",
    "condition = \"(\"           \n",
    "for x in books:\n",
    "    condition  = condition + str(x) + \", \"\n",
    "    \n",
    "condition = condition[0:-2] +  \" )\"    \n",
    "print (condition)\n",
    "sc = spark.sparkContext\n",
    "sqlContext = SQLContext(sc)\n",
    "#transactiosR =  sqlContext.sql(\"SELECT  codusu +0 as userCol ,  codobra + 0 as itemCol , 0 as rating from  transacionalObra \")\n",
    "itensF =  sqlContext.sql(\"SELECT  * from utensfactor  where id in \" +condition + \"  \" )\n",
    "\n",
    "itensF.show(22)\n",
    "\n",
    "booksa= {}\n",
    "nresult = itensF.count()\n",
    "vetors = np.zeros((nresult, 10), dtype=float)\n",
    "bookenames = [] \n",
    "for  i  in range(nresult):\n",
    "    idb = itensF.collect()[i]['id']\n",
    "    npa = np.asarray(itensF.collect()[i]['features'], dtype=np.float32)\n",
    "    vetors[i] = npa \n",
    "    bookenames.append(books[idb])\n",
    "\n"
   ]
  },
  {
   "cell_type": "markdown",
   "metadata": {},
   "source": [
    "## Reduzindo a dimensionalida para 2 e colocando nosso exemplos em um gráfico\n",
    "\n",
    "\n"
   ]
  },
  {
   "cell_type": "code",
   "execution_count": 30,
   "metadata": {},
   "outputs": [
    {
     "name": "stdout",
     "output_type": "stream",
     "text": [
      "0 Como Fazer Amigos e Influenciar Pessoas\n",
      "1 dom casmurro\n",
      "2 O Que e Ideologia\n",
      "3 moreninha\n",
      "4 Quem Mexeu no Meu Queijo?\n",
      "5 Convite a Filosofia:\n"
     ]
    },
    {
     "data": {
      "image/png": "[encoded data removed]",
      "text/plain": [
       "<Figure size 432x432 with 1 Axes>"
      ]
     },
     "metadata": {},
     "output_type": "display_data"
    }
   ],
   "source": [
    "\n",
    "import numpy as np\n",
    "\n",
    "\n",
    "def impgrafico(nomes, vetors ):\n",
    "    from sklearn.decomposition import PCA   \n",
    "    \n",
    "    #vec = np.transpose(vec)        \n",
    "    import matplotlib.pyplot as plt\n",
    "\n",
    "\n",
    "    pca = PCA(n_components=2)\n",
    "    vectwodim = PCA(n_components=2).fit_transform(vetors)\n",
    "    \n",
    "    plt.style.use('ggplot')    \n",
    "    plt.figure(figsize=(6,6))\n",
    "    plt.scatter(vectwodim[:,0], vectwodim[:,1], edgecolors='k', c='r')\n",
    "    \n",
    "    i =0\n",
    "    for frase, (x,y) in zip(nomes, vectwodim):\n",
    "        plt.text(x+0.05, y+0.05, i)\n",
    "        i =i +1 \n",
    "        \n",
    "    i =0   \n",
    "    for frase in nomes:\n",
    "        print(i, frase ) \n",
    "        i = i +1     \n",
    "        \n",
    "        \n",
    "    plt.show()  \n",
    "    \n",
    "\n",
    "    \n",
    "impgrafico(bookenames, vetors)\n",
    "    \n",
    "    \n",
    "    "
   ]
  },
  {
   "cell_type": "markdown",
   "metadata": {},
   "source": [
    "##  The reduction process base on user actions generat some insights \n",
    "- Self help books are  close to each other\n",
    "- The Classicos books  are  close to each other too\n",
    "- however the philosophical books are't so close \n"
   ]
  },
  {
   "cell_type": "code",
   "execution_count": null,
   "metadata": {},
   "outputs": [],
   "source": []
  },
  {
   "cell_type": "code",
   "execution_count": null,
   "metadata": {},
   "outputs": [],
   "source": [
    "model.save('/home/desenvolvimento/python/recomender/modelaLS/model')"
   ]
  },
  {
   "cell_type": "code",
   "execution_count": null,
   "metadata": {},
   "outputs": [],
   "source": []
  }
 ],
 "metadata": {
  "kernelspec": {
   "display_name": "Python 3",
   "language": "python",
   "name": "python3"
  },
  "language_info": {
   "codemirror_mode": {
    "name": "ipython",
    "version": 3
   },
   "file_extension": ".py",
   "mimetype": "text/x-python",
   "name": "python",
   "nbconvert_exporter": "python",
   "pygments_lexer": "ipython3",
   "version": "3.6.7"
  }
 },
 "nbformat": 4,
 "nbformat_minor": 2
}
