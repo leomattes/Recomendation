{
 "cells": [
  {
   "cell_type": "markdown",
   "metadata": {},
   "source": [
    "# Aplying the recomendator system\n",
    "\n",
    "\n",
    "This notebook is a part of the project Library recomender system. To generet the datases used in this notebook, we have used spiders to colect biblographis registers and users trasactions over many library sites. The bibliograthic registers have been already unificated and associated with a unique identifier class \"codObra\";\n",
    "\n",
    "In the previously we used the scikit learning liubrary to reduce the dimentionality of the one hot *WORK vz USER rating matriz . The original one has 1,4 milion of dimention, we reducetd it to 10 dimention. In this notebook, using the *work dataset ratings with 10 dimentions, we aplly nearest neighborhood calgrtinms to find for each work the neares one. These user filter funcitionalit is particular usefull to catalog sistes where show other itens base in pther experience \" who saw that also saw : \"\n",
    "\n",
    "\n",
    "\n",
    "\n",
    "<font color=blue>*the same book with diferent editions were agruped in \"Work\" and has the \"codObra\" as unique identifier</font>\n",
    "  \n",
    "\n"
   ]
  },
  {
   "cell_type": "markdown",
   "metadata": {},
   "source": [
    "## Firsts let load the bookWeight data set  Aplying the recomendator system\n",
    "\n",
    "1. id is the dataset order\n",
    "2. codobra is the \"Work\" identifier\n",
    "3. c1, c2 ... c10 are the Weight in reducted vector space with 10 dimentions\n"
   ]
  },
  {
   "cell_type": "code",
   "execution_count": 1,
   "metadata": {},
   "outputs": [
    {
     "data": {
      "text/plain": [
       "(133989, 12)"
      ]
     },
     "execution_count": 1,
     "metadata": {},
     "output_type": "execute_result"
    }
   ],
   "source": [
    "import pandas as pd \n",
    "\n",
    "booksweight = pd.read_csv('bookWeight.csv')  # doctest: +SKIP\n",
    "booksweight.shape"
   ]
  },
  {
   "cell_type": "code",
   "execution_count": 2,
   "metadata": {},
   "outputs": [
    {
     "data": {
      "text/html": [
       "<div>\n",
       "<style scoped>\n",
       "    .dataframe tbody tr th:only-of-type {\n",
       "        vertical-align: middle;\n",
       "    }\n",
       "\n",
       "    .dataframe tbody tr th {\n",
       "        vertical-align: top;\n",
       "    }\n",
       "\n",
       "    .dataframe thead th {\n",
       "        text-align: right;\n",
       "    }\n",
       "</style>\n",
       "<table border=\"1\" class=\"dataframe\">\n",
       "  <thead>\n",
       "    <tr style=\"text-align: right;\">\n",
       "      <th></th>\n",
       "      <th>id</th>\n",
       "      <th>codobra</th>\n",
       "      <th>c1</th>\n",
       "      <th>c2</th>\n",
       "      <th>c3</th>\n",
       "      <th>c4</th>\n",
       "      <th>c5</th>\n",
       "      <th>c6</th>\n",
       "      <th>c7</th>\n",
       "      <th>c8</th>\n",
       "      <th>c9</th>\n",
       "      <th>c10</th>\n",
       "    </tr>\n",
       "  </thead>\n",
       "  <tbody>\n",
       "    <tr>\n",
       "      <th>0</th>\n",
       "      <td>0</td>\n",
       "      <td>110</td>\n",
       "      <td>-0.069944</td>\n",
       "      <td>0.261876</td>\n",
       "      <td>0.279082</td>\n",
       "      <td>-0.003079</td>\n",
       "      <td>0.204972</td>\n",
       "      <td>-0.209111</td>\n",
       "      <td>0.039038</td>\n",
       "      <td>-0.186838</td>\n",
       "      <td>-0.042609</td>\n",
       "      <td>-0.014002</td>\n",
       "    </tr>\n",
       "    <tr>\n",
       "      <th>1</th>\n",
       "      <td>1</td>\n",
       "      <td>140</td>\n",
       "      <td>0.927947</td>\n",
       "      <td>0.973363</td>\n",
       "      <td>-1.187703</td>\n",
       "      <td>-0.668665</td>\n",
       "      <td>-0.070719</td>\n",
       "      <td>-0.089884</td>\n",
       "      <td>-0.468329</td>\n",
       "      <td>0.746488</td>\n",
       "      <td>0.077941</td>\n",
       "      <td>0.817792</td>\n",
       "    </tr>\n",
       "    <tr>\n",
       "      <th>2</th>\n",
       "      <td>2</td>\n",
       "      <td>160</td>\n",
       "      <td>1.155321</td>\n",
       "      <td>-0.011052</td>\n",
       "      <td>0.533303</td>\n",
       "      <td>0.634104</td>\n",
       "      <td>-1.456100</td>\n",
       "      <td>0.430736</td>\n",
       "      <td>1.472087</td>\n",
       "      <td>-1.881912</td>\n",
       "      <td>0.803114</td>\n",
       "      <td>1.844294</td>\n",
       "    </tr>\n",
       "    <tr>\n",
       "      <th>3</th>\n",
       "      <td>3</td>\n",
       "      <td>190</td>\n",
       "      <td>-0.260877</td>\n",
       "      <td>0.295407</td>\n",
       "      <td>0.194097</td>\n",
       "      <td>0.061888</td>\n",
       "      <td>0.233164</td>\n",
       "      <td>-0.171829</td>\n",
       "      <td>-0.026542</td>\n",
       "      <td>-0.209496</td>\n",
       "      <td>0.041619</td>\n",
       "      <td>0.115344</td>\n",
       "    </tr>\n",
       "  </tbody>\n",
       "</table>\n",
       "</div>"
      ],
      "text/plain": [
       "   id  codobra        c1        c2        c3        c4        c5        c6  \\\n",
       "0   0      110 -0.069944  0.261876  0.279082 -0.003079  0.204972 -0.209111   \n",
       "1   1      140  0.927947  0.973363 -1.187703 -0.668665 -0.070719 -0.089884   \n",
       "2   2      160  1.155321 -0.011052  0.533303  0.634104 -1.456100  0.430736   \n",
       "3   3      190 -0.260877  0.295407  0.194097  0.061888  0.233164 -0.171829   \n",
       "\n",
       "         c7        c8        c9       c10  \n",
       "0  0.039038 -0.186838 -0.042609 -0.014002  \n",
       "1 -0.468329  0.746488  0.077941  0.817792  \n",
       "2  1.472087 -1.881912  0.803114  1.844294  \n",
       "3 -0.026542 -0.209496  0.041619  0.115344  "
      ]
     },
     "execution_count": 2,
     "metadata": {},
     "output_type": "execute_result"
    }
   ],
   "source": [
    "booksweight.head(4)\n"
   ]
  },
  {
   "cell_type": "markdown",
   "metadata": {},
   "source": [
    "\n",
    "<font color=blue font-size = 19px>* Lets transform to numoy array to use sklearn library </font>"
   ]
  },
  {
   "cell_type": "code",
   "execution_count": 3,
   "metadata": {},
   "outputs": [
    {
     "name": "stdout",
     "output_type": "stream",
     "text": [
      "(133989, 10)\n",
      "(133989, 12)\n"
     ]
    },
    {
     "data": {
      "text/plain": [
       "array([[-0.06994427,  0.26187602,  0.27908191, -0.00307914,  0.20497191,\n",
       "        -0.2091108 ,  0.03903817, -0.18683849, -0.04260883, -0.01400245],\n",
       "       [ 0.92794734,  0.97336334, -1.18770325, -0.66866517, -0.07071923,\n",
       "        -0.08988411, -0.46832892,  0.74648798,  0.07794056,  0.81779218]])"
      ]
     },
     "execution_count": 3,
     "metadata": {},
     "output_type": "execute_result"
    }
   ],
   "source": [
    "weights =  booksweight.to_numpy()[0:, 2:]\n",
    "\n",
    "print(weights.shape)\n",
    "print(booksweight.shape)\n",
    "#-0.069944\t0.261876\t0.279082\n",
    "weights[0:2]\n"
   ]
  },
  {
   "cell_type": "markdown",
   "metadata": {},
   "source": [
    "<font color=blue font-size = 19px>NearestNeighbors find the points (works)  Nearest of each point </font>"
   ]
  },
  {
   "cell_type": "code",
   "execution_count": 4,
   "metadata": {},
   "outputs": [
    {
     "name": "stdout",
     "output_type": "stream",
     "text": [
      "[0.         0.06136852 0.09225836 0.09280618 0.09414747 0.09417006\n",
      " 0.09453893 0.09453893 0.09479223 0.0998378 ]\n",
      "[     0  51035  32410  60844  27091  32119  70423 112977  45826 104192]\n"
     ]
    }
   ],
   "source": [
    "from sklearn.neighbors import NearestNeighbors\n",
    "import numpy as np\n",
    "\n",
    "nbrs = NearestNeighbors(n_neighbors=10, algorithm='auto',n_jobs=6  ).fit(weights)\n",
    "distances, indices = nbrs.kneighbors(weights)\n",
    "\n",
    "print(distances[0])\n",
    "print(indices[0])\n",
    "\n",
    "\n"
   ]
  },
  {
   "cell_type": "code",
   "execution_count": 5,
   "metadata": {},
   "outputs": [
    {
     "name": "stdout",
     "output_type": "stream",
     "text": [
      "[0.         2.33108207 2.5510443  2.55409957 2.72099495 2.77264112\n",
      " 2.84755236 2.90062697 2.9559641  3.05751834]\n",
      "[  2233  84279 100583  40390 132411  55125 106848  86715  45278 102478]\n"
     ]
    }
   ],
   "source": [
    "print(distances[2233])\n",
    "print(indices[2233])\n"
   ]
  },
  {
   "cell_type": "markdown",
   "metadata": {},
   "source": [
    "\n",
    "## Let's seen some examples  "
   ]
  },
  {
   "cell_type": "code",
   "execution_count": 6,
   "metadata": {},
   "outputs": [],
   "source": [
    "booksweight.set_index('codobra', inplace=True)"
   ]
  },
  {
   "cell_type": "code",
   "execution_count": 7,
   "metadata": {},
   "outputs": [],
   "source": [
    "books = {\n",
    "    1735: 'moreninha',\n",
    "    1522 : \"dom casmurro\",\n",
    "    2172 : \"Quincas Borba: \",\n",
    "    278  : 'Quem Mexeu no Meu Queijo?', \n",
    "    5310: 'Como Fazer Amigos e Influenciar Pessoas',\n",
    "    1117  : 'Fundamentos da metafisica dos costumes ',\n",
    "        \n",
    "    17180 : 'pai rico',\n",
    "    9948 : 'Convite a Filosofia:',\n",
    "    \n",
    "    277  : 'Grande sertao Veredas',\n",
    "    2873:'Harry Potter e a Ordem da Fenix',\n",
    "    6970: 'Matematica divertida e curiosa',\n",
    "    223802: 'matematica fundamentos ' ,\n",
    "    24459: 'O que e literatura:'  ,\n",
    "    26526: 'A guerra dos tronos',\n",
    "    30353: 'O Que e Ideologia',\n",
    "      \n",
    "    \n",
    "      \n",
    "}\n",
    "\n"
   ]
  },
  {
   "cell_type": "markdown",
   "metadata": {},
   "source": [
    "## Reduzindo a dimensionalida para 2 e colocando nosso exemplos em um gráfico\n",
    "\n",
    "\n"
   ]
  },
  {
   "cell_type": "code",
   "execution_count": 8,
   "metadata": {},
   "outputs": [],
   "source": [
    "import pandas as pd \n",
    "\n",
    "obreas = pd.read_csv('/home/JobResults/arrumatransacional/obra.cvs')  # doctest: +SKIP\n",
    "obreas.set_index('codobra', inplace=True)\n",
    "\n",
    "obreas.head(3)\n",
    "\n",
    "def getTitobra(codobra):\n",
    "    try:\n",
    "        return obreas.loc[codobra]['tit']\n",
    "    except:\n",
    "        return \"\"\n",
    "\n",
    "def getindexCodObra(codobra):\n",
    "    return int(booksweight.loc[codobra]['id'])\n",
    "\n",
    "\n",
    "\n",
    "def getCodObra(indice):\n",
    "    return booksweight.iloc[indice].name\n",
    "\n",
    "\n",
    "    "
   ]
  },
  {
   "cell_type": "code",
   "execution_count": 9,
   "metadata": {},
   "outputs": [
    {
     "name": "stdout",
     "output_type": "stream",
     "text": [
      "140 Ritinha_bonitinha\n",
      "   100059 Personagens_encantados_II\n",
      "   2704 Tempus_Fugit\n",
      "   218875 Lições_de_texto\n",
      "   223381 Venturas_e_desventuras_de_Zé_Teixeira\n",
      "   177118 O_amor_venceu\n",
      "   62730 Robin_Hood\n",
      "   367635 \n",
      "   287745 Exercícios_abdominais\n",
      "   164244 A_tartaruga\n",
      "\n"
     ]
    }
   ],
   "source": [
    "def getitulorec(codobra):\n",
    "\n",
    "    indice =  getindexCodObra(codobra)\n",
    "    indiceobra  = indices[indice]\n",
    "    result = ''\n",
    "\n",
    "    for indtit in indiceobra:\n",
    "        codobrat =  getCodObra(indtit)\n",
    "        titulo =  getTitobra(codobrat)\n",
    "        result =  result + '   ' +str(codobrat) +  ' ' +titulo + '\\n'\n",
    "\n",
    "    \n",
    "    return result[3:]\n",
    "\n",
    "\n",
    "\n",
    "resultado = getitulorec(140)\n",
    "print(resultado)\n",
    "\n",
    "\n",
    "\n",
    "\n"
   ]
  },
  {
   "cell_type": "code",
   "execution_count": 10,
   "metadata": {},
   "outputs": [
    {
     "name": "stdout",
     "output_type": "stream",
     "text": [
      "1735 Memorias_postumas_de_Bras_Cubas\n",
      "   133654 Til\n",
      "   331873 A_cidade_e_as_serras\n",
      "   1522 Dom_Casmurro\n",
      "   1828 Vidas_secas\n",
      "   297063 Antes_que_o_amor_acabe\n",
      "   254191 Concerto_para_arranha-céus\n",
      "   59273 Memórias_de_um_sargento_de_milícias\n",
      "   374594 \n",
      "   10693 Poirot_Investiga\n",
      "\n",
      "1522 Dom_Casmurro\n",
      "   59273 Memórias_de_um_sargento_de_milícias\n",
      "   1828 Vidas_secas\n",
      "   1735 Memorias_postumas_de_Bras_Cubas\n",
      "   9152 O_Morte_na_praia\n",
      "   133654 Til\n",
      "   28863 A_Mao_Misteriosa\n",
      "   7190 Encontro_com_a_Morte\n",
      "   9298 Noite_sem_fim\n",
      "   8974 O_Um_passe_de_magica\n",
      "\n",
      "2172 Quincas_Borba\n",
      "   335675 Gramática_prática_da_língua_inglesa\n",
      "   114234 Drummond_Frente_e_Verso\n",
      "   96938 Estrutura_social_mobilidade_e_raça\n",
      "   44316 Realismo_e_anti-realismo_na_literatura_brasileira\n",
      "   56319 Conviver_e_Melhorar\n",
      "   89191 O_conhecimento_no_cotidiano\n",
      "   108518 Censura_autoritarismo_y_cultura\n",
      "   199663 Navalhanaliga\n",
      "   238569 Processo\n",
      "\n",
      "278 Quem_Mexeu_no_Meu_Queijo?\n",
      "   26836 O_Ultimo_Adeus_de_Sherlock_Holmes\n",
      "   2210 O_Codigo_Da_Vinci\n",
      "   2135 O_pequeno_príncipe\n",
      "   2639 Anjo_e_Demonios\n",
      "   1189 Um_estudo_em_vermelho\n",
      "   47483 Minha_vida_de_cachorro\n",
      "   9395 Anjo_da_Morte\n",
      "   119211 A_Senhora_do_Jogo\n",
      "   62590 O_Arquivo_Secreto_de_Sherlock_Holmes\n",
      "\n",
      "5310 Como_Fazer_Amigos_e_Influenciar_Pessoas\n",
      "   83942 Branding\n",
      "   232408 Almas_Gemeas\n",
      "   354230 \n",
      "   306358 Nas_areias_do_passado\n",
      "   64602 O_jogo_das_invencoes\n",
      "   85121 Chico_Xavier_a_Sombra_do_Abacateiro\n",
      "   127013 SINDROME_DO_PANICO\n",
      "   285689 Alguem_bateu_na_minha_porta\n",
      "   81638 Psicanalise_da_familia_(colecao_clinica_psicanalitica)\n",
      "\n",
      "1117 Harry_Potter_e_o_calice_de_fogo_____e_o_calice_de_fogo\n",
      "   2873 Harry_Potter_e_a_Ordem_da_Fenix\n",
      "   4124 Harry_Potter_e_o_Enigma_do_Principe\n",
      "   1236 Harry_Potter\n",
      "   7822 Harry_Potter_e_as_Relíquias_da_Morte\n",
      "   1198 Harry_Potter_e_a_Pedra_Filosofal\n",
      "   4539 Animais_Fantasticos_&_Onde_Habitam\n",
      "   1438 Os_Contos_de_Beedle_O_Bardo\n",
      "   4545 Quadribol_Através_dos_Séculos\n",
      "   229954 Charlie_Munger\n",
      "\n",
      "17180 Pai_rico_pai_pobre\n",
      "   274801 Strangers_in_the_Night_-_The_Valentine_Effect\n",
      "   282844 Ficções\n",
      "   188086 Herdeiros_do_Novo_Mundo\n",
      "   361410 \n",
      "   169614 O_Ritual_da_Umbanda\n",
      "   131563 White_Fang_/_The_Call_of_the_Wild\n",
      "   334065 Tudo_sobre_bancos_de_dados_na_Web\n",
      "   74310 A_anarquia\n",
      "   157056 Marketing_Esportivo\n",
      "\n",
      "9948 Convite_à_Filosofia\n",
      "   25919 A_Aventura_de_Miguel_Littin_Clandestino_no_Chile\n",
      "   390394 \n",
      "   180177 Direito_e_processo\n",
      "   368540 \n",
      "   210 Metodologia_do_trabalho_cientifico\n",
      "   225543 Marvel_Millennium_#_01\n",
      "   322950 O_pintinho_Plic\n",
      "   173970 CLIPPER_avançado\n",
      "   186985 Sonata_de_outono\n",
      "\n",
      "277 Grande_sertao_Veredas\n",
      "   691 Sagarana\n",
      "   11394 Cães_Educados_Donos_Felizes\n",
      "   33776 As_relacoes_perigosas\n",
      "   50070 Casa_de_Bonecas\n",
      "   76183 O_Socio\n",
      "   5841 A_rosa_do_povo\n",
      "   20249 O_Matador\n",
      "   10084 Primeiras_Estorias\n",
      "   21524 O_Coracao_das_Trevas\n",
      "\n",
      "2873 Harry_Potter_e_a_Ordem_da_Fenix\n",
      "   4124 Harry_Potter_e_o_Enigma_do_Principe\n",
      "   1117 Harry_Potter_e_o_calice_de_fogo_____e_o_calice_de_fogo\n",
      "   7822 Harry_Potter_e_as_Relíquias_da_Morte\n",
      "   1236 Harry_Potter\n",
      "   1198 Harry_Potter_e_a_Pedra_Filosofal\n",
      "   1438 Os_Contos_de_Beedle_O_Bardo\n",
      "   4539 Animais_Fantasticos_&_Onde_Habitam\n",
      "   4545 Quadribol_Através_dos_Séculos\n",
      "   229954 Charlie_Munger\n",
      "\n",
      "6970 Matematica_divertida_e_curiosa\n",
      "   257359 Vida_Sexual_no_Casamento\n",
      "   100582 Mini_GURPS\n",
      "   361335 \n",
      "   208391 Sangue_no_espelho\n",
      "   36747 Peso_sexo_&_casamento\n",
      "   245814 Muito_além_das_estrelas\n",
      "   119466 Branca_de_Neve\n",
      "   296750 Aula_do_além\n",
      "   355732 \n",
      "\n",
      "223802 Matemática\n",
      "   322816 Ciências_5a.série\n",
      "   20383 Espada_da_Galáxia\n",
      "   386652 \n",
      "   121085 La_consultation_therapeutique_et_lenfant\n",
      "   344104 História_4ª_série\n",
      "   42459 Deus_é_inútil?\n",
      "   277590 Simples_Demais_-_Expresso_Noturno_Para_Lisboa_-_Chamada_Perdida_-_Crianca_Linda\n",
      "   90530 Corrupção_em_Washington\n",
      "   80366 Física\n",
      "\n",
      "24459 O_que_e_literatura\n",
      "   95695 Sociologia_do_conhecimento_v._1\n",
      "   319157 Sociologia_do_conhecimento_v._2\n",
      "   285035 Overheard\n",
      "   140752 Investigando_o_Amor\n",
      "   93521 A_Tecela\n",
      "   175633 Energia\n",
      "   141910 DOMANDO_SUA_FERINHA_-_MENINAS\n",
      "   85037 Por_uma_Arquitetura\n",
      "   63580 Uma_viagem_através_dos_mitos\n",
      "\n",
      "26526 A_guerra_dos_tronos\n",
      "   83337 O_festim_dos_corvos\n",
      "   80085 A_Furia_dos_Reis\n",
      "   83340 A_danca_dos_dragoes\n",
      "   83334 A_tormenta_de_espadas\n",
      "   8544 A_Batalha_do_Apocalipse\n",
      "   269918 Renascenca\n",
      "   6129 A_Luneta_Ambar\n",
      "   87881 O_Nome_do_Vento\n",
      "   6124 A_Faca_Sutil_-_Pocket\n",
      "\n",
      "30353 O_Que_e_Ideologia\n",
      "   92821 O_Bichinho_Que_Queria_Crescer\n",
      "   48571 O_Destino_de_Poseidon\n",
      "   211108 A_Historia_Nos_Filmes_Os_Filmes_Na_Historia\n",
      "   338864 Nos_bracos_do_conquistador\n",
      "   68401 O_Último_Papa\n",
      "   162414 MISTERIOS_DO_DESCONHECIDO-ENCONTROS_ESPECTRAIS\n",
      "   103010 Uninvited\n",
      "   112833 As_Leis\n",
      "   191563 Questoes_Recentes_Na_Analise_Comportamental\n",
      "\n"
     ]
    }
   ],
   "source": [
    "\n",
    "\n",
    "for x in books:\n",
    "    resultado = getitulorec(x)\n",
    "    print(resultado )\n",
    "    \n",
    "    \n",
    "    \n",
    "\n"
   ]
  },
  {
   "cell_type": "markdown",
   "metadata": {},
   "source": [
    "\n",
    "## Now, Let's traduce the table index to CodObra in order to export the nears works of each work base on \"codObra\""
   ]
  },
  {
   "cell_type": "code",
   "execution_count": 11,
   "metadata": {},
   "outputs": [
    {
     "data": {
      "text/html": [
       "<div>\n",
       "<style scoped>\n",
       "    .dataframe tbody tr th:only-of-type {\n",
       "        vertical-align: middle;\n",
       "    }\n",
       "\n",
       "    .dataframe tbody tr th {\n",
       "        vertical-align: top;\n",
       "    }\n",
       "\n",
       "    .dataframe thead th {\n",
       "        text-align: right;\n",
       "    }\n",
       "</style>\n",
       "<table border=\"1\" class=\"dataframe\">\n",
       "  <thead>\n",
       "    <tr style=\"text-align: right;\">\n",
       "      <th></th>\n",
       "      <th>id</th>\n",
       "      <th>c1</th>\n",
       "      <th>c2</th>\n",
       "      <th>c3</th>\n",
       "      <th>c4</th>\n",
       "      <th>c5</th>\n",
       "      <th>c6</th>\n",
       "      <th>c7</th>\n",
       "      <th>c8</th>\n",
       "      <th>c9</th>\n",
       "      <th>c10</th>\n",
       "    </tr>\n",
       "    <tr>\n",
       "      <th>codobra</th>\n",
       "      <th></th>\n",
       "      <th></th>\n",
       "      <th></th>\n",
       "      <th></th>\n",
       "      <th></th>\n",
       "      <th></th>\n",
       "      <th></th>\n",
       "      <th></th>\n",
       "      <th></th>\n",
       "      <th></th>\n",
       "      <th></th>\n",
       "    </tr>\n",
       "  </thead>\n",
       "  <tbody>\n",
       "    <tr>\n",
       "      <th>110</th>\n",
       "      <td>0</td>\n",
       "      <td>-0.069944</td>\n",
       "      <td>0.261876</td>\n",
       "      <td>0.279082</td>\n",
       "      <td>-0.003079</td>\n",
       "      <td>0.204972</td>\n",
       "      <td>-0.209111</td>\n",
       "      <td>0.039038</td>\n",
       "      <td>-0.186838</td>\n",
       "      <td>-0.042609</td>\n",
       "      <td>-0.014002</td>\n",
       "    </tr>\n",
       "    <tr>\n",
       "      <th>140</th>\n",
       "      <td>1</td>\n",
       "      <td>0.927947</td>\n",
       "      <td>0.973363</td>\n",
       "      <td>-1.187703</td>\n",
       "      <td>-0.668665</td>\n",
       "      <td>-0.070719</td>\n",
       "      <td>-0.089884</td>\n",
       "      <td>-0.468329</td>\n",
       "      <td>0.746488</td>\n",
       "      <td>0.077941</td>\n",
       "      <td>0.817792</td>\n",
       "    </tr>\n",
       "    <tr>\n",
       "      <th>160</th>\n",
       "      <td>2</td>\n",
       "      <td>1.155321</td>\n",
       "      <td>-0.011052</td>\n",
       "      <td>0.533303</td>\n",
       "      <td>0.634104</td>\n",
       "      <td>-1.456100</td>\n",
       "      <td>0.430736</td>\n",
       "      <td>1.472087</td>\n",
       "      <td>-1.881912</td>\n",
       "      <td>0.803114</td>\n",
       "      <td>1.844294</td>\n",
       "    </tr>\n",
       "    <tr>\n",
       "      <th>190</th>\n",
       "      <td>3</td>\n",
       "      <td>-0.260877</td>\n",
       "      <td>0.295407</td>\n",
       "      <td>0.194097</td>\n",
       "      <td>0.061888</td>\n",
       "      <td>0.233164</td>\n",
       "      <td>-0.171829</td>\n",
       "      <td>-0.026542</td>\n",
       "      <td>-0.209496</td>\n",
       "      <td>0.041619</td>\n",
       "      <td>0.115344</td>\n",
       "    </tr>\n",
       "    <tr>\n",
       "      <th>210</th>\n",
       "      <td>4</td>\n",
       "      <td>0.671067</td>\n",
       "      <td>0.826471</td>\n",
       "      <td>0.689987</td>\n",
       "      <td>0.456756</td>\n",
       "      <td>0.439277</td>\n",
       "      <td>0.358300</td>\n",
       "      <td>-0.095728</td>\n",
       "      <td>0.094837</td>\n",
       "      <td>-0.810357</td>\n",
       "      <td>-0.325304</td>\n",
       "    </tr>\n",
       "  </tbody>\n",
       "</table>\n",
       "</div>"
      ],
      "text/plain": [
       "         id        c1        c2        c3        c4        c5        c6  \\\n",
       "codobra                                                                   \n",
       "110       0 -0.069944  0.261876  0.279082 -0.003079  0.204972 -0.209111   \n",
       "140       1  0.927947  0.973363 -1.187703 -0.668665 -0.070719 -0.089884   \n",
       "160       2  1.155321 -0.011052  0.533303  0.634104 -1.456100  0.430736   \n",
       "190       3 -0.260877  0.295407  0.194097  0.061888  0.233164 -0.171829   \n",
       "210       4  0.671067  0.826471  0.689987  0.456756  0.439277  0.358300   \n",
       "\n",
       "               c7        c8        c9       c10  \n",
       "codobra                                          \n",
       "110      0.039038 -0.186838 -0.042609 -0.014002  \n",
       "140     -0.468329  0.746488  0.077941  0.817792  \n",
       "160      1.472087 -1.881912  0.803114  1.844294  \n",
       "190     -0.026542 -0.209496  0.041619  0.115344  \n",
       "210     -0.095728  0.094837 -0.810357 -0.325304  "
      ]
     },
     "execution_count": 11,
     "metadata": {},
     "output_type": "execute_result"
    }
   ],
   "source": [
    "booksweight.head()\n"
   ]
  },
  {
   "cell_type": "code",
   "execution_count": 67,
   "metadata": {},
   "outputs": [
    {
     "data": {
      "text/plain": [
       "(133989, 10)"
      ]
     },
     "execution_count": 67,
     "metadata": {},
     "output_type": "execute_result"
    }
   ],
   "source": [
    "import numpy as np\n",
    "\n",
    "size = indices.shape[0]\n",
    "indices_obras = np.zeros([size,10])\n",
    "\n",
    "indices_obras.shape\n",
    "\n"
   ]
  },
  {
   "cell_type": "code",
   "execution_count": 66,
   "metadata": {},
   "outputs": [
    {
     "name": "stdout",
     "output_type": "stream",
     "text": [
      "[  5590. 219771.  64103. 179171. 140669. 165576. 374013. 293639. 284051.\n",
      " 144384.]\n"
     ]
    }
   ],
   "source": [
    "def getCodObras(rowindices):\n",
    "    codobras = np.zeros(10)\n",
    "    for i in range(10):\n",
    "        codobrai =  getCodObra(rowindices[i])\n",
    "        codobras[i] = codobrai\n",
    "        \n",
    "    return  codobras    \n",
    "       \n",
    "codobras = getCodObras(indices[200])\n",
    "print(codobras)\n"
   ]
  },
  {
   "cell_type": "code",
   "execution_count": null,
   "metadata": {},
   "outputs": [],
   "source": [
    "for i in range(size):\n",
    "    indices_obras[i] =  getCodObras(indices[i])\n"
   ]
  },
  {
   "cell_type": "markdown",
   "metadata": {},
   "source": [
    "\n",
    "\n"
   ]
  },
  {
   "cell_type": "code",
   "execution_count": 72,
   "metadata": {},
   "outputs": [
    {
     "name": "stdout",
     "output_type": "stream",
     "text": [
      "[  9650.  10877. 146482. 345849.  30703.  96422. 337819. 381355. 199063.\n",
      " 283548.]\n"
     ]
    }
   ],
   "source": [
    "print(indices_obras[345])"
   ]
  },
  {
   "cell_type": "code",
   "execution_count": 71,
   "metadata": {},
   "outputs": [],
   "source": [
    "\n",
    "cab = 'codobra, codobra, codobra,codobra,codobra,codobra,codobra,codobra,codobra,codobra'\n",
    "np.savetxt(\"recomendacoes.csv\", indices_obras, delimiter=',', header=cab)\n",
    "\n"
   ]
  },
  {
   "cell_type": "code",
   "execution_count": null,
   "metadata": {},
   "outputs": [],
   "source": [
    "\n"
   ]
  },
  {
   "cell_type": "code",
   "execution_count": null,
   "metadata": {},
   "outputs": [],
   "source": []
  }
 ],
 "metadata": {
  "kernelspec": {
   "display_name": "Python 3",
   "language": "python",
   "name": "python3"
  },
  "language_info": {
   "codemirror_mode": {
    "name": "ipython",
    "version": 3
   },
   "file_extension": ".py",
   "mimetype": "text/x-python",
   "name": "python",
   "nbconvert_exporter": "python",
   "pygments_lexer": "ipython3",
   "version": "3.6.7"
  }
 },
 "nbformat": 4,
 "nbformat_minor": 2
}
