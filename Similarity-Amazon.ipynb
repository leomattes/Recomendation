{
 "cells": [
  {
   "cell_type": "markdown",
   "metadata": {},
   "source": [
    "# Aplying the recomendator system\n",
    "\n",
    "\n",
    "This notebook is a part of the project Library recomender system. To generet the datases used in this notebook, we have used spiders to colect biblographis registers and users trasactions over many library sites. The bibliograthic registers have been already unificated and associated with a unique identifier class \"codObra\";\n",
    "\n",
    "In the previously we used the scikit learning liubrary to reduce the dimentionality of the one hot *WORK vz USER rating matriz . The original one has 1,4 milion of dimention, we reducetd it to 10 dimention. In this notebook, using the *work dataset ratings with 10 dimentions, we aplly nearest neighborhood calgrtinms to find for each work the neares one. These user filter funcitionalit is particular usefull to catalog sistes where show other itens base in pther experience \" who saw that also saw : \"\n",
    "\n",
    "\n",
    "\n",
    "\n",
    "<font color=blue>*the same book with diferent editions were agruped in \"Work\" and has the \"codObra\" as unique identifier</font>\n",
    "  \n",
    "\n"
   ]
  },
  {
   "cell_type": "markdown",
   "metadata": {},
   "source": [
    "## Firsts let load the bookWeight data set  Aplying the recomendator system\n",
    "\n",
    "1. id is the dataset order\n",
    "2. codobra is the \"Work\" \n",
    "identifier\n",
    "3. f0, f2 ... f99 are the Weight in reducted vector space with 100 dimentions\n"
   ]
  },
  {
   "cell_type": "code",
   "execution_count": 9,
   "metadata": {},
   "outputs": [],
   "source": [
    "#!more vectors.txt\n"
   ]
  },
  {
   "cell_type": "code",
   "execution_count": 117,
   "metadata": {
    "scrolled": true
   },
   "outputs": [
    {
     "data": {
      "text/html": [
       "<div>\n",
       "<style scoped>\n",
       "    .dataframe tbody tr th:only-of-type {\n",
       "        vertical-align: middle;\n",
       "    }\n",
       "\n",
       "    .dataframe tbody tr th {\n",
       "        vertical-align: top;\n",
       "    }\n",
       "\n",
       "    .dataframe thead th {\n",
       "        text-align: right;\n",
       "    }\n",
       "</style>\n",
       "<table border=\"1\" class=\"dataframe\">\n",
       "  <thead>\n",
       "    <tr style=\"text-align: right;\">\n",
       "      <th></th>\n",
       "      <th>f0</th>\n",
       "      <th>f1</th>\n",
       "      <th>f2</th>\n",
       "      <th>f3</th>\n",
       "      <th>f4</th>\n",
       "      <th>f5</th>\n",
       "      <th>f6</th>\n",
       "      <th>f7</th>\n",
       "      <th>f8</th>\n",
       "      <th>f9</th>\n",
       "      <th>...</th>\n",
       "      <th>f92</th>\n",
       "      <th>f93</th>\n",
       "      <th>f94</th>\n",
       "      <th>f95</th>\n",
       "      <th>f96</th>\n",
       "      <th>f97</th>\n",
       "      <th>f98</th>\n",
       "      <th>f99,</th>\n",
       "      <th>b</th>\n",
       "      <th>id</th>\n",
       "    </tr>\n",
       "    <tr>\n",
       "      <th>codobra</th>\n",
       "      <th></th>\n",
       "      <th></th>\n",
       "      <th></th>\n",
       "      <th></th>\n",
       "      <th></th>\n",
       "      <th></th>\n",
       "      <th></th>\n",
       "      <th></th>\n",
       "      <th></th>\n",
       "      <th></th>\n",
       "      <th></th>\n",
       "      <th></th>\n",
       "      <th></th>\n",
       "      <th></th>\n",
       "      <th></th>\n",
       "      <th></th>\n",
       "      <th></th>\n",
       "      <th></th>\n",
       "      <th></th>\n",
       "      <th></th>\n",
       "      <th></th>\n",
       "    </tr>\n",
       "  </thead>\n",
       "  <tbody>\n",
       "    <tr>\n",
       "      <th>2135</th>\n",
       "      <td>-0.52995</td>\n",
       "      <td>0.99200</td>\n",
       "      <td>-0.72640</td>\n",
       "      <td>0.13349</td>\n",
       "      <td>0.54362</td>\n",
       "      <td>0.10349</td>\n",
       "      <td>-0.010795</td>\n",
       "      <td>0.55004</td>\n",
       "      <td>1.7047</td>\n",
       "      <td>0.81522</td>\n",
       "      <td>...</td>\n",
       "      <td>1.8179</td>\n",
       "      <td>-1.5631</td>\n",
       "      <td>-0.15175</td>\n",
       "      <td>-1.5073</td>\n",
       "      <td>0.15216</td>\n",
       "      <td>1.3783</td>\n",
       "      <td>-0.83391</td>\n",
       "      <td>-0.18300</td>\n",
       "      <td>NaN</td>\n",
       "      <td>0</td>\n",
       "    </tr>\n",
       "    <tr>\n",
       "      <th>660</th>\n",
       "      <td>-0.55598</td>\n",
       "      <td>1.02260</td>\n",
       "      <td>-0.74682</td>\n",
       "      <td>0.13526</td>\n",
       "      <td>0.55247</td>\n",
       "      <td>0.12473</td>\n",
       "      <td>0.009669</td>\n",
       "      <td>0.56198</td>\n",
       "      <td>1.7234</td>\n",
       "      <td>0.83466</td>\n",
       "      <td>...</td>\n",
       "      <td>1.8316</td>\n",
       "      <td>-1.5776</td>\n",
       "      <td>-0.16481</td>\n",
       "      <td>-1.5323</td>\n",
       "      <td>0.16783</td>\n",
       "      <td>1.3992</td>\n",
       "      <td>-0.85640</td>\n",
       "      <td>-0.18825</td>\n",
       "      <td>NaN</td>\n",
       "      <td>1</td>\n",
       "    </tr>\n",
       "    <tr>\n",
       "      <th>1236</th>\n",
       "      <td>-0.52997</td>\n",
       "      <td>0.97954</td>\n",
       "      <td>-0.70787</td>\n",
       "      <td>0.13557</td>\n",
       "      <td>0.53899</td>\n",
       "      <td>0.11865</td>\n",
       "      <td>0.006231</td>\n",
       "      <td>0.53543</td>\n",
       "      <td>1.6572</td>\n",
       "      <td>0.79065</td>\n",
       "      <td>...</td>\n",
       "      <td>1.7728</td>\n",
       "      <td>-1.5200</td>\n",
       "      <td>-0.15022</td>\n",
       "      <td>-1.4592</td>\n",
       "      <td>0.15243</td>\n",
       "      <td>1.3292</td>\n",
       "      <td>-0.82530</td>\n",
       "      <td>-0.19196</td>\n",
       "      <td>NaN</td>\n",
       "      <td>2</td>\n",
       "    </tr>\n",
       "  </tbody>\n",
       "</table>\n",
       "<p>3 rows × 102 columns</p>\n",
       "</div>"
      ],
      "text/plain": [
       "              f0       f1       f2       f3       f4       f5        f6  \\\n",
       "codobra                                                                   \n",
       "2135    -0.52995  0.99200 -0.72640  0.13349  0.54362  0.10349 -0.010795   \n",
       "660     -0.55598  1.02260 -0.74682  0.13526  0.55247  0.12473  0.009669   \n",
       "1236    -0.52997  0.97954 -0.70787  0.13557  0.53899  0.11865  0.006231   \n",
       "\n",
       "              f7      f8       f9  ...     f92     f93      f94     f95  \\\n",
       "codobra                            ...                                    \n",
       "2135     0.55004  1.7047  0.81522  ...  1.8179 -1.5631 -0.15175 -1.5073   \n",
       "660      0.56198  1.7234  0.83466  ...  1.8316 -1.5776 -0.16481 -1.5323   \n",
       "1236     0.53543  1.6572  0.79065  ...  1.7728 -1.5200 -0.15022 -1.4592   \n",
       "\n",
       "             f96     f97      f98     f99,   b  id  \n",
       "codobra                                             \n",
       "2135     0.15216  1.3783 -0.83391 -0.18300 NaN   0  \n",
       "660      0.16783  1.3992 -0.85640 -0.18825 NaN   1  \n",
       "1236     0.15243  1.3292 -0.82530 -0.19196 NaN   2  \n",
       "\n",
       "[3 rows x 102 columns]"
      ]
     },
     "execution_count": 117,
     "metadata": {},
     "output_type": "execute_result"
    }
   ],
   "source": [
    "import pandas as pd \n",
    "\n",
    "booksweight = pd.read_csv('vectors.txt', delimiter =' ')  # doctest: +SKIP\n",
    "\n",
    "booksweight['id'] =booksweight.index\n",
    "\n",
    "booksweight.set_index('codobra', inplace=True)\n",
    "booksweight.head(3)\n"
   ]
  },
  {
   "cell_type": "markdown",
   "metadata": {},
   "source": [
    "\n",
    "<font color=blue font-size = 19px> Let's plot a graph with some examples </font>"
   ]
  },
  {
   "cell_type": "code",
   "execution_count": 142,
   "metadata": {},
   "outputs": [
    {
     "name": "stdout",
     "output_type": "stream",
     "text": [
      "2\n"
     ]
    }
   ],
   "source": [
    "\n",
    "def getweight(codobra) : \n",
    "    weight = booksweight.loc[codobra][0:-2].values\n",
    "    return weight\n",
    "\n",
    "\n",
    "\n",
    "def getIndexObra(codobra) : \n",
    "    weight = booksweight.loc[codobra][101]\n",
    "    return int(weight)\n",
    "\n",
    "def getObraIndex(index) : \n",
    "    codobra  =booksweight.iloc[index].name\n",
    "    return int(codobra)\n",
    "\n",
    "\n",
    "posicao =getIndexObra(1236)\n",
    "print(posicao)\n",
    "\n"
   ]
  },
  {
   "cell_type": "code",
   "execution_count": 119,
   "metadata": {},
   "outputs": [
    {
     "data": {
      "text/plain": [
       "2.0"
      ]
     },
     "execution_count": 119,
     "metadata": {},
     "output_type": "execute_result"
    }
   ],
   "source": []
  },
  {
   "cell_type": "markdown",
   "metadata": {},
   "source": [
    "# Let's meake a graph with  some example\n",
    "\n"
   ]
  },
  {
   "cell_type": "code",
   "execution_count": 120,
   "metadata": {},
   "outputs": [],
   "source": [
    "from sklearn.decomposition import PCA   \n",
    "import matplotlib.pyplot as plt\n",
    "import numpy as np\n",
    "\n",
    "def impgrafico(nomes, vetors ):\n",
    "\n",
    "    pca = PCA(n_components=2)\n",
    "    vectwodim = PCA(n_components=2).fit_transform(vetors)\n",
    "    \n",
    "    plt.style.use('ggplot')    \n",
    "    plt.figure(figsize=(6,6))\n",
    "    plt.scatter(vectwodim[:,0], vectwodim[:,1], edgecolors='k', c='r')\n",
    "    \n",
    "    i =0\n",
    "    for frase, (x,y) in zip(nomes, vectwodim):\n",
    "        plt.text(x+0.05, y+0.05, i)\n",
    "        i =i +1 \n",
    "        \n",
    "    i =0   \n",
    "    for frase in nomes:\n",
    "        print(i, frase ) \n",
    "        i = i +1     \n",
    "        \n",
    "        \n",
    "    \n"
   ]
  },
  {
   "cell_type": "markdown",
   "metadata": {},
   "source": []
  },
  {
   "cell_type": "code",
   "execution_count": 122,
   "metadata": {},
   "outputs": [
    {
     "name": "stdout",
     "output_type": "stream",
     "text": [
      "0 moreninha\n",
      "1 dom casmurro\n",
      "2 Harry Potter e a Ordem da Fenix\n",
      "3 A guerra dos tronos\n",
      "4 Convite a Filosofia:\n",
      "5 O Que e Ideologia\n"
     ]
    },
    {
     "data": {
      "image/png": "[encoded data removed]",
      "text/plain": [
       "<Figure size 432x432 with 1 Axes>"
      ]
     },
     "metadata": {},
     "output_type": "display_data"
    }
   ],
   "source": [
    "import numpy as np\n",
    "books = {\n",
    "    1735: 'moreninha',\n",
    "    1522 : \"dom casmurro\",\n",
    "    \n",
    "    278  : 'Quem Mexeu no Meu Queijo?', \n",
    "    5310: 'Como Fazer Amigos e Influenciar Pessoas',\n",
    "    2873:'Harry Potter e a Ordem da Fenix',\n",
    "    26526: 'A guerra dos tronos',\n",
    "    9948 : 'Convite a Filosofia:',\n",
    "    30353: 'O Que e Ideologia',\n",
    "      \n",
    "}\n",
    "\n",
    "\n",
    "\n",
    "size =len(books)  \n",
    "vetorswith = np.zeros((size, 100), dtype=float)\n",
    "bookenames = [] \n",
    "i =0\n",
    "for  codobra  in books:\n",
    "    weight = getweight(codobra ) \n",
    "    bookenames.append(books[codobra])\n",
    "    vetorswith[i] = weight\n",
    "    i = i+1\n",
    "\n",
    "\n",
    "\n",
    "impgrafico(bookenames, vetorswith)\n",
    "\n",
    "\n"
   ]
  },
  {
   "cell_type": "markdown",
   "metadata": {},
   "source": [
    "##  Now  let's calculate for eache work the 10 similary works base on the nearest neighborhood"
   ]
  },
  {
   "cell_type": "code",
   "execution_count": 87,
   "metadata": {},
   "outputs": [
    {
     "data": {
      "text/html": [
       "<div>\n",
       "<style scoped>\n",
       "    .dataframe tbody tr th:only-of-type {\n",
       "        vertical-align: middle;\n",
       "    }\n",
       "\n",
       "    .dataframe tbody tr th {\n",
       "        vertical-align: top;\n",
       "    }\n",
       "\n",
       "    .dataframe thead th {\n",
       "        text-align: right;\n",
       "    }\n",
       "</style>\n",
       "<table border=\"1\" class=\"dataframe\">\n",
       "  <thead>\n",
       "    <tr style=\"text-align: right;\">\n",
       "      <th></th>\n",
       "      <th>f0</th>\n",
       "      <th>f1</th>\n",
       "      <th>f2</th>\n",
       "      <th>f3</th>\n",
       "      <th>f4</th>\n",
       "      <th>f5</th>\n",
       "      <th>f6</th>\n",
       "      <th>f7</th>\n",
       "      <th>f8</th>\n",
       "      <th>f9</th>\n",
       "      <th>...</th>\n",
       "      <th>f91</th>\n",
       "      <th>f92</th>\n",
       "      <th>f93</th>\n",
       "      <th>f94</th>\n",
       "      <th>f95</th>\n",
       "      <th>f96</th>\n",
       "      <th>f97</th>\n",
       "      <th>f98</th>\n",
       "      <th>f99,</th>\n",
       "      <th>b</th>\n",
       "    </tr>\n",
       "    <tr>\n",
       "      <th>codobra</th>\n",
       "      <th></th>\n",
       "      <th></th>\n",
       "      <th></th>\n",
       "      <th></th>\n",
       "      <th></th>\n",
       "      <th></th>\n",
       "      <th></th>\n",
       "      <th></th>\n",
       "      <th></th>\n",
       "      <th></th>\n",
       "      <th></th>\n",
       "      <th></th>\n",
       "      <th></th>\n",
       "      <th></th>\n",
       "      <th></th>\n",
       "      <th></th>\n",
       "      <th></th>\n",
       "      <th></th>\n",
       "      <th></th>\n",
       "      <th></th>\n",
       "      <th></th>\n",
       "    </tr>\n",
       "  </thead>\n",
       "  <tbody>\n",
       "    <tr>\n",
       "      <th>2135</th>\n",
       "      <td>-0.52995</td>\n",
       "      <td>0.9920</td>\n",
       "      <td>-0.72640</td>\n",
       "      <td>0.13349</td>\n",
       "      <td>0.54362</td>\n",
       "      <td>0.10349</td>\n",
       "      <td>-0.010795</td>\n",
       "      <td>0.55004</td>\n",
       "      <td>1.7047</td>\n",
       "      <td>0.81522</td>\n",
       "      <td>...</td>\n",
       "      <td>0.43942</td>\n",
       "      <td>1.8179</td>\n",
       "      <td>-1.5631</td>\n",
       "      <td>-0.15175</td>\n",
       "      <td>-1.5073</td>\n",
       "      <td>0.15216</td>\n",
       "      <td>1.3783</td>\n",
       "      <td>-0.83391</td>\n",
       "      <td>-0.18300</td>\n",
       "      <td>NaN</td>\n",
       "    </tr>\n",
       "    <tr>\n",
       "      <th>660</th>\n",
       "      <td>-0.55598</td>\n",
       "      <td>1.0226</td>\n",
       "      <td>-0.74682</td>\n",
       "      <td>0.13526</td>\n",
       "      <td>0.55247</td>\n",
       "      <td>0.12473</td>\n",
       "      <td>0.009669</td>\n",
       "      <td>0.56198</td>\n",
       "      <td>1.7234</td>\n",
       "      <td>0.83466</td>\n",
       "      <td>...</td>\n",
       "      <td>0.44223</td>\n",
       "      <td>1.8316</td>\n",
       "      <td>-1.5776</td>\n",
       "      <td>-0.16481</td>\n",
       "      <td>-1.5323</td>\n",
       "      <td>0.16783</td>\n",
       "      <td>1.3992</td>\n",
       "      <td>-0.85640</td>\n",
       "      <td>-0.18825</td>\n",
       "      <td>NaN</td>\n",
       "    </tr>\n",
       "  </tbody>\n",
       "</table>\n",
       "<p>2 rows × 101 columns</p>\n",
       "</div>"
      ],
      "text/plain": [
       "              f0      f1       f2       f3       f4       f5        f6  \\\n",
       "codobra                                                                  \n",
       "2135    -0.52995  0.9920 -0.72640  0.13349  0.54362  0.10349 -0.010795   \n",
       "660     -0.55598  1.0226 -0.74682  0.13526  0.55247  0.12473  0.009669   \n",
       "\n",
       "              f7      f8       f9  ...      f91     f92     f93      f94  \\\n",
       "codobra                            ...                                     \n",
       "2135     0.55004  1.7047  0.81522  ...  0.43942  1.8179 -1.5631 -0.15175   \n",
       "660      0.56198  1.7234  0.83466  ...  0.44223  1.8316 -1.5776 -0.16481   \n",
       "\n",
       "            f95      f96     f97      f98     f99,   b  \n",
       "codobra                                                 \n",
       "2135    -1.5073  0.15216  1.3783 -0.83391 -0.18300 NaN  \n",
       "660     -1.5323  0.16783  1.3992 -0.85640 -0.18825 NaN  \n",
       "\n",
       "[2 rows x 101 columns]"
      ]
     },
     "execution_count": 87,
     "metadata": {},
     "output_type": "execute_result"
    }
   ],
   "source": [
    "booksweight.head(2)   "
   ]
  },
  {
   "cell_type": "markdown",
   "metadata": {},
   "source": [
    "<font color=blue font-size = 19px>* Lets transform to numpy array to use sklearn library </font>"
   ]
  },
  {
   "cell_type": "code",
   "execution_count": 177,
   "metadata": {},
   "outputs": [
    {
     "data": {
      "text/plain": [
       "(83291, 100)"
      ]
     },
     "execution_count": 177,
     "metadata": {},
     "output_type": "execute_result"
    }
   ],
   "source": [
    "\n",
    "weights =  booksweight.to_numpy()[0:, 0:-2]\n",
    "\n",
    "weights.shape\n",
    "\n",
    "# (133989, 10)\n"
   ]
  },
  {
   "cell_type": "code",
   "execution_count": null,
   "metadata": {},
   "outputs": [],
   "source": []
  },
  {
   "cell_type": "markdown",
   "metadata": {},
   "source": [
    "\n",
    "<font color=blue size=\"6\">NearestNeighbors find the points (works)  Nearest of each point </font>\n"
   ]
  },
  {
   "cell_type": "code",
   "execution_count": 181,
   "metadata": {},
   "outputs": [
    {
     "name": "stdout",
     "output_type": "stream",
     "text": [
      "[0.         0.12191462 0.1462635  0.15881043 0.16640503 0.16859704\n",
      " 0.19444664 0.21182205 0.28951172 0.29579565]\n",
      "[ 2  6  7  8 10  4  3  5  9  0]\n"
     ]
    }
   ],
   "source": [
    "\n",
    "from sklearn.neighbors import NearestNeighbors\n",
    "import numpy as np\n",
    "\n",
    "nbrs = NearestNeighbors(n_neighbors=10, algorithm='auto',n_jobs=6  ).fit(weights)\n",
    "distances, indices = nbrs.kneighbors(weights)\n",
    "\n",
    "print(distances[0])\n",
    "print(indices[2])\n"
   ]
  },
  {
   "cell_type": "code",
   "execution_count": 192,
   "metadata": {},
   "outputs": [
    {
     "data": {
      "text/plain": [
       "(83291, 10)"
      ]
     },
     "execution_count": 192,
     "metadata": {},
     "output_type": "execute_result"
    }
   ],
   "source": [
    "indices.shape\n",
    "indiceteste = 400\n",
    "print(distances[indiceteste])\n",
    "print(indices[indiceteste])"
   ]
  },
  {
   "cell_type": "code",
   "execution_count": 196,
   "metadata": {},
   "outputs": [
    {
     "data": {
      "text/plain": [
       "1117"
      ]
     },
     "execution_count": 196,
     "metadata": {},
     "output_type": "execute_result"
    }
   ],
   "source": [
    "\n",
    "def getObraIndex(index) : \n",
    "    codobra  =booksweight.iloc[index].name\n",
    "    return int(codobra)\n",
    "\n",
    "codobra = getObraIndex(3)\n",
    "\n",
    "codobra\n",
    "\n",
    "\n",
    "\n"
   ]
  },
  {
   "cell_type": "code",
   "execution_count": 152,
   "metadata": {},
   "outputs": [
    {
     "data": {
      "text/plain": [
       "'Crepusculo'"
      ]
     },
     "execution_count": 152,
     "metadata": {},
     "output_type": "execute_result"
    }
   ],
   "source": [
    "import pandas as pd \n",
    "obreas = pd.read_csv('/home/JobResults/arrumatransacional/obra.cvs')  # doctest: +SKIP\n",
    "obreas.set_index('codobra', inplace=True)\n",
    "obreas.head(3)\n",
    "\n",
    "def getTitobra(codobra):\n",
    "    try:\n",
    "        return obreas.loc[codobra]['titulo']\n",
    "    except:\n",
    "        return \"\"\n",
    "\n",
    "\n",
    "getTitobra(660)\n"
   ]
  },
  {
   "cell_type": "markdown",
   "metadata": {},
   "source": [
    "## Reduzindo a dimensionalida para 2 e colocando nosso exemplos em um gráfico\n",
    "\n",
    "\n"
   ]
  },
  {
   "cell_type": "code",
   "execution_count": 200,
   "metadata": {},
   "outputs": [
    {
     "name": "stdout",
     "output_type": "stream",
     "text": [
      "660 Crepusculo\n",
      "   2135 O_pequeno_príncipe\n",
      "   1117 Harry_Potter_e_o_calice_de_fogo_____e_o_calice_de_fogo\n",
      "   7822 Harry_Potter_e_as_Relíquias_da_Morte\n",
      "   4150 Eclipse\n",
      "   4124 Harry_Potter_e_o_Enigma_do_Principe\n",
      "   220 A_Menina_Que_Roubava_Livros\n",
      "   1236 Harry_Potter\n",
      "   5079 O_Ladrao_de_Raios\n",
      "   650 Lua_Nova\n",
      "\n"
     ]
    }
   ],
   "source": [
    "\n",
    "def getitulorec(codobra):\n",
    "    index =  getIndexObra(codobra)\n",
    "    indexesObra  = indices[index]\n",
    "    result = ''\n",
    "\n",
    "    for indexObra in indexesObra:\n",
    "        codobrat =  getObraIndex(indexObra)\n",
    "        titulo =  getTitobra(codobrat)\n",
    "        result =  result + '   ' +str(codobrat) +  ' ' +titulo + '\\n'\n",
    "    return result[3:]\n",
    "\n",
    "       \n",
    "\n",
    "obras = getitulorec(660)\n",
    "print(obras)\n",
    "\n",
    "    \n",
    "\n",
    "    \n",
    "    \n"
   ]
  },
  {
   "cell_type": "code",
   "execution_count": 201,
   "metadata": {},
   "outputs": [
    {
     "name": "stdout",
     "output_type": "stream",
     "text": [
      "1735 Memorias_postumas_de_Bras_Cubas\n",
      "   6437 Nada_dura_para_sempre\n",
      "   126308 Indomada\n",
      "   2186 A_Ilha_perdida\n",
      "   1189 Um_estudo_em_vermelho\n",
      "   16183 A_maldição_do_tigre\n",
      "   1828 Vidas_secas\n",
      "   124910 Fani_Na_Terra_Da_Rainha\n",
      "   13748 O_Diario_De_Um_Banana\n",
      "   21292 Terra_de_sombras\n",
      "\n",
      "1522 Dom_Casmurro\n",
      "   2218 O_misterio_do_cinco_estrelas\n",
      "   4512 O_Garoto_da_Casa_ao_Lado\n",
      "   2807 Nunca_Desista_de_seus_Sonhos\n",
      "   984 Dracula:__Intermediate_Level_story\n",
      "   5354 Comedias_para_se_Ler_na_Escola\n",
      "   4442 A_Princesa_Apaixonada\n",
      "   4724 Praticamente_Inofensiva\n",
      "   10772 O_Natal_de_Poirot\n",
      "   10848 Cai_O_Pano\n",
      "\n",
      "2172 Quincas_Borba\n",
      "   28384 As_experiências_de_Tíbio_e_Perônio\n",
      "   143584 Naruto_#30\n",
      "   379634 A_mão_e_a_luva\n",
      "   305007 O_código_Da_Vinci\n",
      "   46047 Palavras_Que_Nunca_Te_Direi\n",
      "   23890 Gincana_da_morte\n",
      "   14191 A_capital_da_solidão\n",
      "   211146 Disciplina\n",
      "   102417 A_Cizânia\n",
      "\n",
      "278 Quem_Mexeu_no_Meu_Queijo?\n",
      "   14872 Crescendo\n",
      "   7643 Aventuras_de_Alice_no_Pais_das_Maravilhas_e_Atraves_do_Espelho_e_o_que_Alice_Encontrou_La\n",
      "   83334 A_tormenta_de_espadas\n",
      "   80085 A_Furia_dos_Reis\n",
      "   21281 Para_sempre\n",
      "   721 A_Cidade_do_Sol\n",
      "   15293 Diário_de_uma_paixão\n",
      "   3332 Senhora\n",
      "   5887 A_Marca_de_uma_Lagrima\n",
      "\n",
      "5310 Como_Fazer_Amigos_e_Influenciar_Pessoas\n",
      "   12643 Amar_verbo_intransitivo\n",
      "   28845 Diamantes_do_Sol\n",
      "   13183 O_Sol_e_Para_Todos\n",
      "   115501 Tamanho_44_Tambem_Nao_E_Gorda\n",
      "   8110 O_rei_Lear\n",
      "   218737 Querido_Diario_Otario_9\n",
      "   5611 O_Terceiro_Travesseiro\n",
      "   12132 Alem_do_Bem_e_do_Mal\n",
      "   31105 Uma_nota_errada\n",
      "\n",
      "1117 Harry_Potter_e_o_calice_de_fogo_____e_o_calice_de_fogo\n",
      "   4124 Harry_Potter_e_o_Enigma_do_Principe\n",
      "   7822 Harry_Potter_e_as_Relíquias_da_Morte\n",
      "   220 A_Menina_Que_Roubava_Livros\n",
      "   2135 O_pequeno_príncipe\n",
      "   4150 Eclipse\n",
      "   1236 Harry_Potter\n",
      "   5079 O_Ladrao_de_Raios\n",
      "   650 Lua_Nova\n",
      "   660 Crepusculo\n",
      "\n",
      "Series([], Name: titulo, dtype: object)\n",
      "9948 Convite_à_Filosofia\n",
      "   2833 Reinacoes_de_Narizinho\n",
      "   7198 O_Aprendiz\n",
      "   4888 Lobos_de_Calla\n",
      "   15814 O_Grande_Desafio\n",
      "   6205 Breaking_Dawn\n",
      "   4775 A_Fantástica_Fábrica_de_Chocolate\n",
      "   106138 Poderosa_5\n",
      "   10126 Moby_Dick_-_2_Volumes\n",
      "   38080 New_Moon\n",
      "\n",
      "Series([], Name: titulo, dtype: object)\n",
      "2873 Harry_Potter_e_a_Ordem_da_Fenix\n",
      "   650 Lua_Nova\n",
      "   5079 O_Ladrao_de_Raios\n",
      "   1236 Harry_Potter\n",
      "   4150 Eclipse\n",
      "   7822 Harry_Potter_e_as_Relíquias_da_Morte\n",
      "   732 A_Cabana\n",
      "   2210 O_Codigo_Da_Vinci\n",
      "   220 A_Menina_Que_Roubava_Livros\n",
      "   4124 Harry_Potter_e_o_Enigma_do_Principe\n",
      "\n",
      "6970 Matematica_divertida_e_curiosa\n",
      "   82967 The_Captive_Part_II_and_The_Power\n",
      "   191839 Como_multiplicar_a_inteligência_do_seu_bebê\n",
      "   160722 Wicca_#33\n",
      "   42936 Renascido\n",
      "   60388 O_outro_lado_da_comunicação_de_massas\n",
      "   36561 As_democracias_contemporâneas\n",
      "   146926 On_Câmera\n",
      "   253395 Museu_de_tudo\n",
      "   13600 Como_despertar_o_melhor_das_pessoas\n",
      "\n",
      "223802 Matemática\n",
      "   78259 A_Conquista_da_matemática_7\n",
      "   306400 Dexter:_Design_de_um_Assassino\n",
      "   291253 Os_fundamentos_da_fisica_volume_1_mecanica_/\n",
      "   29196 Minha_primeira_paixão\n",
      "   215750 O_apanhador_no_campo_de_centeio\n",
      "   270585 O_Diário\n",
      "   6740 O_processo\n",
      "   364414 Guia_Politicamente_Incorreto_da_América_Latina\n",
      "   17038 Terra_Sonambula\n",
      "\n",
      "24459 O_que_e_literatura\n",
      "   182717 A_próstata\n",
      "   127411 Colegio_Ouran_Host_Club_#12\n",
      "   202537 Hector_e_Afonso\n",
      "   71253 O_clone_da_vovo\n",
      "   321144 Iracema\n",
      "   201295 Ewé\n",
      "   158095 Química\n",
      "   30857 A_Epopéia_de_Gilgamesh\n",
      "   50312 Joy_Division_New_Order\n",
      "\n",
      "26526 A_guerra_dos_tronos\n",
      "   31095 A_esperança\n",
      "   2728 As_Cronicas_de_Narnia\n",
      "   6522 O_Cortico\n",
      "   7785 A_última_música\n",
      "   1351 Fortaleza_Digital\n",
      "   8805 O_símbolo_perdido\n",
      "   31090 Em_chamas\n",
      "   1130 O_Menino_do_Pijama_Listrado\n",
      "   295 Marley_&amp;_Eu\n",
      "\n",
      "30353 O_Que_e_Ideologia\n",
      "   23470 Living_Dead_in_Dallas\n",
      "   29237 O_Livro_dos_Abracos\n",
      "   10389 A_Libelula_no_Ambar\n",
      "   12880 Seguindo_a_Correnteza\n",
      "   336558 O_cetro_de_Ottokar\n",
      "   10318 O_Historiador\n",
      "   11915 A_Queda\n",
      "   71428 Joao_Feijao\n",
      "   11843 A_Fazenda_Blackwood\n",
      "\n"
     ]
    }
   ],
   "source": [
    "\n",
    "books = {\n",
    "    1735: 'moreninha',\n",
    "    1522 : \"dom casmurro\",\n",
    "    2172 : \"Quincas Borba: \",\n",
    "    278  : 'Quem Mexeu no Meu Queijo?', \n",
    "    5310: 'Como Fazer Amigos e Influenciar Pessoas',\n",
    "    1117  : 'Fundamentos da metafisica dos costumes ',\n",
    "        \n",
    "    17180 : 'pai rico',\n",
    "    9948 : 'Convite a Filosofia:',\n",
    "    \n",
    "    277  : 'Grande sertao Veredas',\n",
    "    2873:'Harry Potter e a Ordem da Fenix',\n",
    "    6970: 'Matematica divertida e curiosa',\n",
    "    223802: 'matematica fundamentos ' ,\n",
    "    24459: 'O que e literatura:'  ,\n",
    "    26526: 'A guerra dos tronos',\n",
    "    30353: 'O Que e Ideologia',\n",
    "      \n",
    "}\n",
    "\n",
    "\n",
    "for x in books:\n",
    "    resultado = getitulorec(x)\n",
    "    print(resultado )\n",
    "\n",
    "\n",
    "\n"
   ]
  },
  {
   "cell_type": "code",
   "execution_count": null,
   "metadata": {},
   "outputs": [],
   "source": []
  },
  {
   "cell_type": "markdown",
   "metadata": {},
   "source": [
    "\n",
    "## Now, Let's traduce the table index to CodObra in order to export the nears works of each work base on \"codObra\""
   ]
  },
  {
   "cell_type": "code",
   "execution_count": 76,
   "metadata": {},
   "outputs": [
    {
     "data": {
      "text/html": [
       "<div>\n",
       "<style scoped>\n",
       "    .dataframe tbody tr th:only-of-type {\n",
       "        vertical-align: middle;\n",
       "    }\n",
       "\n",
       "    .dataframe tbody tr th {\n",
       "        vertical-align: top;\n",
       "    }\n",
       "\n",
       "    .dataframe thead th {\n",
       "        text-align: right;\n",
       "    }\n",
       "</style>\n",
       "<table border=\"1\" class=\"dataframe\">\n",
       "  <thead>\n",
       "    <tr style=\"text-align: right;\">\n",
       "      <th></th>\n",
       "      <th>f0</th>\n",
       "      <th>f1</th>\n",
       "      <th>f2</th>\n",
       "      <th>f3</th>\n",
       "      <th>f4</th>\n",
       "      <th>f5</th>\n",
       "      <th>f6</th>\n",
       "      <th>f7</th>\n",
       "      <th>f8</th>\n",
       "      <th>f9</th>\n",
       "      <th>...</th>\n",
       "      <th>f91</th>\n",
       "      <th>f92</th>\n",
       "      <th>f93</th>\n",
       "      <th>f94</th>\n",
       "      <th>f95</th>\n",
       "      <th>f96</th>\n",
       "      <th>f97</th>\n",
       "      <th>f98</th>\n",
       "      <th>f99,</th>\n",
       "      <th>b</th>\n",
       "    </tr>\n",
       "    <tr>\n",
       "      <th>codobra</th>\n",
       "      <th></th>\n",
       "      <th></th>\n",
       "      <th></th>\n",
       "      <th></th>\n",
       "      <th></th>\n",
       "      <th></th>\n",
       "      <th></th>\n",
       "      <th></th>\n",
       "      <th></th>\n",
       "      <th></th>\n",
       "      <th></th>\n",
       "      <th></th>\n",
       "      <th></th>\n",
       "      <th></th>\n",
       "      <th></th>\n",
       "      <th></th>\n",
       "      <th></th>\n",
       "      <th></th>\n",
       "      <th></th>\n",
       "      <th></th>\n",
       "      <th></th>\n",
       "    </tr>\n",
       "  </thead>\n",
       "  <tbody>\n",
       "    <tr>\n",
       "      <th>2135</th>\n",
       "      <td>-0.52995</td>\n",
       "      <td>0.9920</td>\n",
       "      <td>-0.72640</td>\n",
       "      <td>0.13349</td>\n",
       "      <td>0.54362</td>\n",
       "      <td>0.10349</td>\n",
       "      <td>-0.010795</td>\n",
       "      <td>0.55004</td>\n",
       "      <td>1.7047</td>\n",
       "      <td>0.81522</td>\n",
       "      <td>...</td>\n",
       "      <td>0.43942</td>\n",
       "      <td>1.8179</td>\n",
       "      <td>-1.5631</td>\n",
       "      <td>-0.15175</td>\n",
       "      <td>-1.5073</td>\n",
       "      <td>0.15216</td>\n",
       "      <td>1.3783</td>\n",
       "      <td>-0.83391</td>\n",
       "      <td>-0.18300</td>\n",
       "      <td>NaN</td>\n",
       "    </tr>\n",
       "    <tr>\n",
       "      <th>660</th>\n",
       "      <td>-0.55598</td>\n",
       "      <td>1.0226</td>\n",
       "      <td>-0.74682</td>\n",
       "      <td>0.13526</td>\n",
       "      <td>0.55247</td>\n",
       "      <td>0.12473</td>\n",
       "      <td>0.009669</td>\n",
       "      <td>0.56198</td>\n",
       "      <td>1.7234</td>\n",
       "      <td>0.83466</td>\n",
       "      <td>...</td>\n",
       "      <td>0.44223</td>\n",
       "      <td>1.8316</td>\n",
       "      <td>-1.5776</td>\n",
       "      <td>-0.16481</td>\n",
       "      <td>-1.5323</td>\n",
       "      <td>0.16783</td>\n",
       "      <td>1.3992</td>\n",
       "      <td>-0.85640</td>\n",
       "      <td>-0.18825</td>\n",
       "      <td>NaN</td>\n",
       "    </tr>\n",
       "  </tbody>\n",
       "</table>\n",
       "<p>2 rows × 101 columns</p>\n",
       "</div>"
      ],
      "text/plain": [
       "              f0      f1       f2       f3       f4       f5        f6  \\\n",
       "codobra                                                                  \n",
       "2135    -0.52995  0.9920 -0.72640  0.13349  0.54362  0.10349 -0.010795   \n",
       "660     -0.55598  1.0226 -0.74682  0.13526  0.55247  0.12473  0.009669   \n",
       "\n",
       "              f7      f8       f9  ...      f91     f92     f93      f94  \\\n",
       "codobra                            ...                                     \n",
       "2135     0.55004  1.7047  0.81522  ...  0.43942  1.8179 -1.5631 -0.15175   \n",
       "660      0.56198  1.7234  0.83466  ...  0.44223  1.8316 -1.5776 -0.16481   \n",
       "\n",
       "            f95      f96     f97      f98     f99,   b  \n",
       "codobra                                                 \n",
       "2135    -1.5073  0.15216  1.3783 -0.83391 -0.18300 NaN  \n",
       "660     -1.5323  0.16783  1.3992 -0.85640 -0.18825 NaN  \n",
       "\n",
       "[2 rows x 101 columns]"
      ]
     },
     "execution_count": 76,
     "metadata": {},
     "output_type": "execute_result"
    }
   ],
   "source": [
    "booksweight.head(2)\n"
   ]
  },
  {
   "cell_type": "code",
   "execution_count": 83,
   "metadata": {},
   "outputs": [
    {
     "data": {
      "text/plain": [
       "array([-0.55598  ,  1.0226   , -0.74682  ,  0.13526  ,  0.55247  ,\n",
       "        0.12473  ,  0.0096692,  0.56198  ,  1.7234   ,  0.83466  ,\n",
       "       -0.31927  ,  0.67659  ,  0.75782  ,  0.63206  , -0.80169  ,\n",
       "        0.54383  , -0.055448 ,  0.601    , -0.16968  , -0.77295  ,\n",
       "        0.25661  ,  1.0711   ,  0.40957  , -1.       ,  0.26077  ,\n",
       "       -0.54601  ,  0.79746  , -0.34864  , -0.65896  ,  1.4711   ,\n",
       "       -0.7156   , -0.42371  , -0.59915  , -1.1305   , -1.1561   ,\n",
       "       -0.11934  ,  0.36635  , -1.1551   , -0.53878  , -0.89919  ,\n",
       "        1.0973   ,  0.79375  ,  0.26765  ,  0.6696   ,  0.10148  ,\n",
       "       -0.2933   , -0.035827 , -0.095411 , -0.78685  , -0.19814  ,\n",
       "       -1.0806   ,  0.56093  , -1.1085   ,  1.0848   , -0.062551 ,\n",
       "       -1.2054   ,  0.013301 ,  0.49936  ,  0.67987  ,  0.52702  ,\n",
       "       -0.058739 ,  0.36907  ,  1.5726   ,  0.46692  , -0.099697 ,\n",
       "       -0.017229 , -0.58794  ,  0.72098  ,  0.87476  ,  0.57546  ,\n",
       "       -1.2026   ,  0.054283 , -0.59382  ,  0.09953  , -0.37159  ,\n",
       "       -0.25334  ,  1.4414   ,  0.93007  ,  0.11322  , -0.36236  ,\n",
       "       -0.62584  ,  0.55206  ,  1.0563   , -1.1442   , -0.15508  ,\n",
       "       -0.91706  ,  0.40667  ,  0.72986  , -0.4442   , -0.62469  ,\n",
       "        1.2711   ,  0.44223  ,  1.8316   , -1.5776   , -0.16481  ,\n",
       "       -1.5323   ,  0.16783  ,  1.3992   , -0.8564   , -0.18825  ])"
      ]
     },
     "execution_count": 83,
     "metadata": {},
     "output_type": "execute_result"
    }
   ],
   "source": [
    "weights =  booksweight.to_numpy()[0:, 0: -1]\n",
    "weights[1]"
   ]
  },
  {
   "cell_type": "code",
   "execution_count": 66,
   "metadata": {},
   "outputs": [
    {
     "name": "stdout",
     "output_type": "stream",
     "text": [
      "[  5590. 219771.  64103. 179171. 140669. 165576. 374013. 293639. 284051.\n",
      " 144384.]\n"
     ]
    }
   ],
   "source": [
    "\n",
    "def getTitobra(codobra):\n",
    "    try:\n",
    "        return obreas.loc[codobra]['tit']\n",
    "    except:\n",
    "        return \"\"\n",
    "\n",
    "def getindexCodObra(codobra):\n",
    "    return int(booksweight.loc[codobra]['id'])\n",
    "\n",
    "\n",
    "\n",
    "def getCodObra(indice):\n",
    "    return booksweight.iloc[indice].name\n",
    "\n"
   ]
  },
  {
   "cell_type": "code",
   "execution_count": null,
   "metadata": {},
   "outputs": [],
   "source": [
    "for i in range(size):\n",
    "    indices_obras[i] =  getCodObras(indices[i])\n"
   ]
  },
  {
   "cell_type": "markdown",
   "metadata": {},
   "source": [
    "\n",
    "\n"
   ]
  },
  {
   "cell_type": "code",
   "execution_count": 72,
   "metadata": {},
   "outputs": [
    {
     "name": "stdout",
     "output_type": "stream",
     "text": [
      "[  9650.  10877. 146482. 345849.  30703.  96422. 337819. 381355. 199063.\n",
      " 283548.]\n"
     ]
    }
   ],
   "source": [
    "print(indices_obras[345])"
   ]
  },
  {
   "cell_type": "code",
   "execution_count": 71,
   "metadata": {},
   "outputs": [],
   "source": [
    "\n",
    "cab = 'codobra, codobra, codobra,codobra,codobra,codobra,codobra,codobra,codobra,codobra'\n",
    "np.savetxt(\"recomendacoes.csv\", indices_obras, delimiter=',', header=cab)\n",
    "\n"
   ]
  },
  {
   "cell_type": "code",
   "execution_count": null,
   "metadata": {},
   "outputs": [],
   "source": [
    "\n"
   ]
  },
  {
   "cell_type": "code",
   "execution_count": null,
   "metadata": {},
   "outputs": [],
   "source": []
  }
 ],
 "metadata": {
  "kernelspec": {
   "display_name": "Python 3",
   "language": "python",
   "name": "python3"
  },
  "language_info": {
   "codemirror_mode": {
    "name": "ipython",
    "version": 3
   },
   "file_extension": ".py",
   "mimetype": "text/x-python",
   "name": "python",
   "nbconvert_exporter": "python",
   "pygments_lexer": "ipython3",
   "version": "3.6.7"
  }
 },
 "nbformat": 4,
 "nbformat_minor": 2
}
